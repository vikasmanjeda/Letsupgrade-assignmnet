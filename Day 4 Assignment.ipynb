{
 "cells": [
  {
   "cell_type": "markdown",
   "metadata": {},
   "source": [
    "# Assignment 1 Day 4 "
   ]
  },
  {
   "cell_type": "code",
   "execution_count": 1,
   "metadata": {},
   "outputs": [],
   "source": [
    "# MAke a function for taking in a number and print a fibonacci series "
   ]
  },
  {
   "cell_type": "code",
   "execution_count": 7,
   "metadata": {},
   "outputs": [
    {
     "name": "stdout",
     "output_type": "stream",
     "text": [
      "Fibonacci series:\n",
      "0\n",
      "1\n",
      "1\n",
      "2\n",
      "3\n",
      "5\n",
      "8\n",
      "13\n",
      "21\n",
      "34\n"
     ]
    }
   ],
   "source": [
    "def fibo_series(n):\n",
    "    if n <= 1 :\n",
    "        return n\n",
    "    else:\n",
    "        return(fibo_series(n-1) + fibo_series(n-2))\n",
    "nterm = 10\n",
    "if nterm <= 0:\n",
    "    print(\"Please enter a positive number\")\n",
    "else:\n",
    "    print(\"Fibonacci series:\")\n",
    "    for i in range(nterm):\n",
    "        print(fibo_series(i))\n"
   ]
  },
  {
   "cell_type": "code",
   "execution_count": 8,
   "metadata": {},
   "outputs": [],
   "source": [
    "# File handling Question"
   ]
  },
  {
   "cell_type": "code",
   "execution_count": 11,
   "metadata": {},
   "outputs": [],
   "source": [
    "file = open(\"Letsupgrade.txt\" , \"w\")\n",
    "file.write(\"I love letsupgrade\")\n",
    "file.close()"
   ]
  },
  {
   "cell_type": "code",
   "execution_count": 13,
   "metadata": {},
   "outputs": [
    {
     "name": "stdout",
     "output_type": "stream",
     "text": [
      "I love letsupgrade\n"
     ]
    }
   ],
   "source": [
    "file = open(\"Letsupgrade.txt\" , \"r\")\n",
    "print(file.read())"
   ]
  },
  {
   "cell_type": "code",
   "execution_count": 40,
   "metadata": {},
   "outputs": [],
   "source": [
    "file = open(\"Letsupgrade.txt\" , \"a\")\n",
    "file.write(\"\\n\" \"We all love python classes with LU \")\n",
    "file.close()"
   ]
  },
  {
   "cell_type": "code",
   "execution_count": 41,
   "metadata": {},
   "outputs": [
    {
     "name": "stdout",
     "output_type": "stream",
     "text": [
      "I love letsupgradeWe all love python classes with LU\n",
      "We all love python classes with LU\n",
      "We all love python classes with LU.\n",
      "We all love python classes with LUWe all love python classes with LU We all love python classes with LU \n",
      "We all love python classes with LU \n",
      "We all love python classes with LU \n"
     ]
    }
   ],
   "source": [
    "file= open(\"Letsupgrade.txt\" , \"r\")\n",
    "print(file.read())"
   ]
  },
  {
   "cell_type": "code",
   "execution_count": 42,
   "metadata": {},
   "outputs": [],
   "source": [
    "# Make a calculotor using function along if , elif , else\n",
    "# add , sub , multi , Divi"
   ]
  },
  {
   "cell_type": "code",
   "execution_count": 50,
   "metadata": {},
   "outputs": [
    {
     "ename": "SyntaxError",
     "evalue": "invalid syntax (<ipython-input-50-09b359c3d211>, line 17)",
     "output_type": "error",
     "traceback": [
      "\u001b[1;36m  File \u001b[1;32m\"<ipython-input-50-09b359c3d211>\"\u001b[1;36m, line \u001b[1;32m17\u001b[0m\n\u001b[1;33m    num1 = int(input(\"Enter a first number: \"))\u001b[0m\n\u001b[1;37m    ^\u001b[0m\n\u001b[1;31mSyntaxError\u001b[0m\u001b[1;31m:\u001b[0m invalid syntax\n"
     ]
    }
   ],
   "source": [
    "def add(a,b):\n",
    "    return(a+b)\n",
    "def sub(a,b):\n",
    "    return(a-b)\n",
    "def multi(a,b):\n",
    "    return(a*b)\n",
    "def divi(a,b):\n",
    "    return(a/b)\n",
    "\n",
    "print(\"Please select opertion - \\n\" \\\n",
    "      \"1. Add \\n\" \\\n",
    "     \"2. sub \\n\" \\\n",
    "     \"3. multi \\n\" \\\n",
    "     \"4. DIvi \\n\")\n",
    "\n",
    "select = int(input(\"select opertion 1 , 2, 3,4 :\" )\n",
    "num1 = int(input(\"Enter a first number: \"))\n",
    "num2 = int(input(\"Enter a second number: \"))\n",
    "\n",
    "if select == 1:\n",
    "    print(num1 , \"+\", num2 , \"=\" , add(num1,num2))\n",
    "elif select == 2:\n",
    "    print(num1, \"-\" , num2 , \"=\" , sub(num1, num2))\n",
    "elif select == 3:\n",
    "    print(num1, \"*\", num2 , \"=\" , multi(num1 , num2))\n",
    "elif select == 4:\n",
    "    print(num1 , \"/\" , num2 , \"=\" , divi(num1 , num2))\n",
    "else:\n",
    "    print(\"Please select any opertion\")\n",
    "             \n"
   ]
  },
  {
   "cell_type": "code",
   "execution_count": null,
   "metadata": {},
   "outputs": [],
   "source": []
  }
 ],
 "metadata": {
  "kernelspec": {
   "display_name": "Python 3",
   "language": "python",
   "name": "python3"
  },
  "language_info": {
   "codemirror_mode": {
    "name": "ipython",
    "version": 3
   },
   "file_extension": ".py",
   "mimetype": "text/x-python",
   "name": "python",
   "nbconvert_exporter": "python",
   "pygments_lexer": "ipython3",
   "version": "3.8.3"
  }
 },
 "nbformat": 4,
 "nbformat_minor": 4
}
